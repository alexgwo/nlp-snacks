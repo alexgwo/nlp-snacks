{
 "cells": [
  {
   "cell_type": "markdown",
   "metadata": {},
   "source": [
    "# <b> Manual TF-IDF"
   ]
  },
  {
   "cell_type": "code",
   "execution_count": 1,
   "metadata": {},
   "outputs": [],
   "source": [
    "import nltk"
   ]
  },
  {
   "cell_type": "code",
   "execution_count": 2,
   "metadata": {},
   "outputs": [],
   "source": [
    "dataset = {\n",
    "    \"text-example_1.txt\" : open(\"text-example-1.txt\").read(),\n",
    "    \"text-example_2.txt\" : open(\"text-example-2.txt\").read(),\n",
    "    \"text-example_3.txt\" : open(\"text-example-3.txt\").read(),\n",
    "    \"text-example_4.txt\" : open(\"text-example-4.txt\").read(),\n",
    "    \"text-example_5.txt\" : open(\"text-example-5.txt\").read(),\n",
    "    \"text-example_6.txt\" : open(\"text-example-6.txt\").read(),\n",
    "    \"text-example_7.txt\" : open(\"text-example-7.txt\").read(),\n",
    "    \"text-example_8.txt\" : open(\"text-example-8.txt\").read(),\n",
    "    \"text-example_9.txt\" : open(\"text-example-9.txt\").read(),\n",
    "    \"text-example_10.txt\" : open(\"text-example-10.txt\").read()\n",
    "}"
   ]
  },
  {
   "cell_type": "code",
   "execution_count": 3,
   "metadata": {},
   "outputs": [
    {
     "data": {
      "text/plain": [
       "['text-example_8.txt',\n",
       " 'text-example_1.txt',\n",
       " 'text-example_3.txt',\n",
       " 'text-example_5.txt',\n",
       " 'text-example_7.txt',\n",
       " 'text-example_2.txt',\n",
       " 'text-example_9.txt',\n",
       " 'text-example_4.txt',\n",
       " 'text-example_10.txt',\n",
       " 'text-example_6.txt']"
      ]
     },
     "execution_count": 3,
     "metadata": {},
     "output_type": "execute_result"
    }
   ],
   "source": [
    "dataset.keys()"
   ]
  },
  {
   "cell_type": "code",
   "execution_count": 5,
   "metadata": {},
   "outputs": [
    {
     "data": {
      "text/plain": [
       "'George Washington (February 22, 1732 \\xe2\\x80\\x93 December 14, 1799) was the first President of the United States (1789\\xe2\\x80\\x9397), the Commander-in-Chief of the Continental Army during the American Revolutionary War, and one of the Founding Fathers of the United States. He presided over the convention that drafted the current United States Constitution and during his lifetime was called the \"father of his country\".\\n\\nWidely admired for his strong leadership qualities, Washington was unanimously elected President in the first two national elections. He oversaw the creation of a strong, well-financed national government that maintained neutrality in the French Revolutionary Wars, suppressed the Whiskey Rebellion, and won acceptance among Americans of all types. Washington\\'s incumbency established many precedents, still in use today, such as the cabinet system, the inaugural address, and the title Mr. President. His retirement from office after two terms established a tradition that lasted until 1940, when Franklin Delano Roosevelt won an unprecedented third term.\\n\\nBorn into the provincial gentry of Colonial Virginia, his family were wealthy planters who owned tobacco plantations and slaves which he inherited; he owned hundreds of slaves throughout his lifetime, but his views on slavery evolved. In his youth he became a senior British officer in the colonial militia during the first stages of the French and Indian War. In 1775, the Second Continental Congress commissioned Washington as commander-in-chief of the Continental Army in the American Revolution. In that command, Washington forced the British out of Boston in 1776, but was defeated and nearly captured later that year when he lost New York City. After crossing the Delaware River in the middle of winter, he defeated the British in two battles, retook New Jersey and restored momentum to the Patriot cause. This is known as the Battle of Trenton.\\n\\nHis strategy enabled Continental forces to capture two major British armies at Saratoga in 1777 and Yorktown in 1781. Historians laud Washington for the selection and supervision of his generals, preservation and command of the army, coordination with the Congress, with state governors and their militia, and attention to supplies, logistics, and training. In battle, however, Washington was repeatedly outmaneuvered by British generals with larger armies. After victory had been finalized in 1783, Washington resigned as commander-in-chief rather than seize power, proving his opposition to dictatorship and his commitment to American republicanism.\\n\\nWashington presided over the Constitutional Convention in 1787, which devised a new form of federal government for the United States. Following unanimous election as President in 1789, he worked to unify rival factions in the fledgling nation. He supported Alexander Hamilton\\'s programs to satisfy all debts, federal and state, established a permanent seat of government, implemented an effective tax system, and created a national bank. In avoiding war with Great Britain, he guaranteed a decade of peace and profitable trade by securing the Jay Treaty in 1795, despite intense opposition from the Jeffersonians. Although he remained nonpartisan, never joining the Federalist Party, he largely supported their policies. Washington\\'s Farewell Address was an influential primer on republican virtue, warning against partisanship, sectionalism, and involvement in foreign wars. He retired from the presidency in 1797, returning to his home and plantation at Mount Vernon.\\n\\nWhile in power, his use of national authority pursued many ends, especially the preservation of liberty, reduction of regional tensions, and promotion of a spirit of American nationalism. Upon his death, Washington was eulogized as \"first in war, first in peace, and first in the hearts of his countrymen\" by Henry Lee. Revered in life and in death, scholarly and public polling consistently ranks him among the top three presidents in American history; he has been depicted and remembered in monuments, currency, and other dedications to the present day.'"
      ]
     },
     "execution_count": 5,
     "metadata": {},
     "output_type": "execute_result"
    }
   ],
   "source": [
    "dataset[\"text-example_4.txt\"]"
   ]
  },
  {
   "cell_type": "code",
   "execution_count": 6,
   "metadata": {},
   "outputs": [],
   "source": [
    "# This is simply the number of times a word appears in any given document\n",
    "# OBS. So this is no differnt than the \"frequency distribution\" method we have used in past lessons\n",
    "# This function that looks on our dictionary of documents and returns a frequency distribution for any of our files.\n",
    "\n",
    "def tf(dataset, file_name):\n",
    "    text = dataset[file_name]\n",
    "    tokens = nltk.word_tokenize(text)\n",
    "    fd = nltk.FreqDist(tokens)\n",
    "    return fd"
   ]
  },
  {
   "cell_type": "code",
   "execution_count": 7,
   "metadata": {},
   "outputs": [
    {
     "data": {
      "text/plain": [
       "FreqDist({',': 54, 'the': 44, 'and': 26, '.': 26, 'of': 25, 'in': 25, 'his': 14, 'Washington': 11, 'he': 10, 'to': 9, ...})"
      ]
     },
     "execution_count": 7,
     "metadata": {},
     "output_type": "execute_result"
    }
   ],
   "source": [
    "# Aqui vemos o count para cada palavra do dataset \"tf-idf_1\". Teste.\n",
    "tf(dataset, \"text-example_4.txt\")"
   ]
  },
  {
   "cell_type": "code",
   "execution_count": 8,
   "metadata": {},
   "outputs": [],
   "source": [
    "# This is simply the number of documents that contain a specific word out of all the documents we have\n",
    "# So in this case we have 10 documents since we know our first document is about\n",
    "from __future__ import division\n",
    "import math\n",
    "def idf(dataset, term):\n",
    "    # count eh uma lista de true e false\n",
    "    count = [term in dataset[file_name] for file_name in dataset]\n",
    "    # the log of total numbers of documents we have over how many documents contain this term\n",
    "    inv_df = math.log(len(count)/sum(count))\n",
    "    return inv_df"
   ]
  },
  {
   "cell_type": "code",
   "execution_count": 9,
   "metadata": {},
   "outputs": [
    {
     "data": {
      "text/plain": [
       "0.5108256237659907"
      ]
     },
     "execution_count": 9,
     "metadata": {},
     "output_type": "execute_result"
    }
   ],
   "source": [
    "#This is our score for the word \"world across all our document\"\n",
    "idf(dataset, \"world\")"
   ]
  },
  {
   "cell_type": "code",
   "execution_count": 10,
   "metadata": {},
   "outputs": [],
   "source": [
    "# The last step is to look for the words with the highest scores.\n",
    "from __future__ import division\n",
    "def tfidf(dataset, filename, n):\n",
    "    term_scores = {}\n",
    "    file_id = tf(dataset,filename)\n",
    "    for term in file_id:\n",
    "        if term.isalpha():\n",
    "            idf_value = idf(dataset, term)\n",
    "            tf_value = tf(dataset, filename)[term]\n",
    "            tfidf_value = tf_value * idf_value\n",
    "            # We are just rounding off the number here.  We are storing each score in the dictionary.\n",
    "            term_scores[term] = round(tfidf_value,2)\n",
    "    # We are sorting by the values to get the highest scores.  \n",
    "    #Yes, \"n\" is just looking at the index to help up get back a specific number.\n",
    "    return sorted(term_scores.items(), key=lambda x:-x[1])[:n]  \n",
    "\n",
    "# OBS. Here, sorted(), takes the dictionary items and then wants to know how to sort them.  \n",
    "# The x in the lambda function represents the values. \n",
    "# The dictionary items look like tuples (key, value) when we call the .items() method. \n",
    "# So x[1] refers to the value in that tuple.  Placing the \"-\" is reversing the order"
   ]
  },
  {
   "cell_type": "code",
   "execution_count": 12,
   "metadata": {},
   "outputs": [
    {
     "data": {
      "text/plain": [
       "[('Washington', 25.33),\n",
       " ('President', 6.44),\n",
       " ('Continental', 4.82),\n",
       " ('preservation', 4.61),\n",
       " ('federal', 4.61),\n",
       " ('militia', 4.61),\n",
       " ('opposition', 4.61),\n",
       " ('generals', 4.61),\n",
       " ('presided', 4.61),\n",
       " ('armies', 4.61)]"
      ]
     },
     "execution_count": 12,
     "metadata": {},
     "output_type": "execute_result"
    }
   ],
   "source": [
    "# These were the top ten scoring word determined by IDF\n",
    "# We can take a look at the words that are coming back and start to get a sense of what this document might be about\n",
    "tfidf(dataset,\"text-example_4.txt\",10)"
   ]
  },
  {
   "cell_type": "code",
   "execution_count": 13,
   "metadata": {},
   "outputs": [
    {
     "name": "stdout",
     "output_type": "stream",
     "text": [
      "text-example_8.txt: \n",
      " [('Titanic', 18.42), ('passengers', 11.51), ('maritime', 9.21), ('safety', 9.21), ('aboard', 9.21)] \n",
      "\n",
      "text-example_1.txt: \n",
      " [('Soviet', 20.72), ('Union', 18.42), ('Axis', 16.12), ('Japan', 11.27), ('Germany', 11.27)] \n",
      "\n",
      "text-example_3.txt: \n",
      " [('Napoleon', 32.19), ('French', 16.86), ('Coalition', 11.51), ('Prussia', 6.91), ('military', 6.02)] \n",
      "\n",
      "text-example_5.txt: \n",
      " [('Newton', 23.03), ('scientists', 6.91), ('motion', 4.83), ('developed', 4.61), ('Trinity', 4.61)] \n",
      "\n",
      "text-example_7.txt: \n",
      " [('Leonardo', 18.42), ('Vinci', 9.21), ('painting', 6.91), ('Renaissance', 4.61), ('inventions', 4.61)] \n",
      "\n",
      "text-example_2.txt: \n",
      " [('Module', 16.12), ('lunar', 13.82), ('Armstrong', 13.82), ('Apollo', 11.51), ('Moon', 9.21)] \n",
      "\n",
      "text-example_9.txt: \n",
      " [('Rockefeller', 23.03), ('Standard', 6.91), ('business', 6.91), ('Oil', 6.91), ('University', 4.83)] \n",
      "\n",
      "text-example_4.txt: \n",
      " [('Washington', 25.33), ('President', 6.44), ('Continental', 4.82), ('preservation', 4.61), ('federal', 4.61)] \n",
      "\n",
      "text-example_10.txt: \n",
      " [('Tesla', 13.82), ('wireless', 6.44), ('electrical', 6.44), ('experiments', 4.61), ('range', 4.61)] \n",
      "\n",
      "text-example_6.txt: \n",
      " [('Revolution', 21.67), ('French', 15.65), ('privileges', 6.91), ('central', 6.91), ('Napoleon', 6.44)] \n",
      "\n"
     ]
    }
   ],
   "source": [
    "# For our next step is to simply run through a for loop for every single document and just call\n",
    "# our TF-IDF function\n",
    "for file_name in dataset:\n",
    "    print(\"{0}: \\n {1} \\n\".format(file_name, tfidf(dataset,file_name,5)))"
   ]
  }
 ],
 "metadata": {
  "kernelspec": {
   "display_name": "Python 2",
   "language": "python",
   "name": "python2"
  },
  "language_info": {
   "codemirror_mode": {
    "name": "ipython",
    "version": 2
   },
   "file_extension": ".py",
   "mimetype": "text/x-python",
   "name": "python",
   "nbconvert_exporter": "python",
   "pygments_lexer": "ipython2",
   "version": "2.7.15"
  }
 },
 "nbformat": 4,
 "nbformat_minor": 2
}
